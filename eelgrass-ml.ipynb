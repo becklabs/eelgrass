{
 "cells": [
  {
   "cell_type": "code",
   "execution_count": 22,
   "metadata": {},
   "outputs": [],
   "source": [
    "from PIL import Image\n",
    "from PIL.ExifTags import TAGS, GPSTAGS\n",
    "\n",
    "def get_exif(filename):\n",
    "    exif = Image.open(filename)._getexif()\n",
    "\n",
    "    if exif is not None:\n",
    "        exifkeys = [x for x in exif.keys()]\n",
    "        for key in exifkeys:\n",
    "            name = TAGS.get(key,key)\n",
    "            exif[name] = exif.pop(key)\n",
    "            \n",
    "        if 'GPSInfo' in exif:\n",
    "            exifkeys2 = [x for x in exif['GPSInfo'].keys()]\n",
    "            for key in exifkeys2:\n",
    "                name = GPSTAGS.get(key,key)\n",
    "                exif['GPSInfo'][name] = exif['GPSInfo'].pop(key)\n",
    "\n",
    "    return exif"
   ]
  },
  {
   "cell_type": "code",
   "execution_count": 23,
   "metadata": {},
   "outputs": [],
   "source": [
    "import re\n",
    "def get_coords(info):\n",
    "    for key in ['Latitude','Longitude']:\n",
    "        sign = -1 if info.get('GPS'+key+'Ref') in ['S','W'] else 1\n",
    "        numbers = info.get('GPS'+key)\n",
    "        degree = numbers[0]\n",
    "        minute = numbers[1]\n",
    "        second = numbers[2]\n",
    "        info[key] = sign * (int(degree) + float(minute) / 60 + float(second) / 3600)\n",
    "    return info['Latitude'], info['Longitude']"
   ]
  },
  {
   "cell_type": "code",
   "execution_count": 18,
   "metadata": {},
   "outputs": [],
   "source": [
    "import pandas as pd\n",
    "import os\n",
    "data = pd.DataFrame(columns = ['Filename','Lat','Long','CD','BT'])\n",
    "filenames = []\n",
    "latitudes = [] \n",
    "longitudes = []\n",
    "timestamps = []\n",
    "for image in os.listdir('geotagged frames/'):\n",
    "    exif = get_exif('geotagged frames/'+image)\n",
    "    lat, long = get_coords(exif['GPSInfo'])\n",
    "    filenames.append(image)\n",
    "    latitudes.append(lat)\n",
    "    longitudes.append(long)\n",
    "data['Filename'] = filenames\n",
    "data['Lat'] = latitudes\n",
    "data['Long'] = longitudes"
   ]
  },
  {
   "cell_type": "code",
   "execution_count": 20,
   "metadata": {},
   "outputs": [],
   "source": [
    "from pigeon import annotate\n",
    "from IPython.display import display, Image\n",
    "\n",
    "    \n",
    "#annotations = annotate(\n",
    "  #['assets/img_example1.jpg', 'assets/img_example2.jpg'],\n",
    "  #options=['cat', 'dog', 'horse'],\n",
    "  #display_fn=lambda filename: display(Image(filename))\n",
    "#)"
   ]
  },
  {
   "cell_type": "code",
   "execution_count": 37,
   "metadata": {},
   "outputs": [
    {
     "name": "stdout",
     "output_type": "stream",
     "text": [
      "None\n"
     ]
    }
   ],
   "source": [
    "info = get_exif('geotagged frames/GH020013.MP4_60.jpg')\n",
    "print(info['GPS'.get('GPSTimeStamp'))"
   ]
  },
  {
   "cell_type": "code",
   "execution_count": 33,
   "metadata": {},
   "outputs": [
    {
     "name": "stdout",
     "output_type": "stream",
     "text": [
      "None\n"
     ]
    }
   ],
   "source": [
    "time = info.get('GPSTimeStamp')\n",
    "date = info.get('GPSDateStamp')\n",
    "print(date)"
   ]
  },
  {
   "cell_type": "code",
   "execution_count": 25,
   "metadata": {},
   "outputs": [
    {
     "ename": "TypeError",
     "evalue": "object of type 'NoneType' has no len()",
     "output_type": "error",
     "traceback": [
      "\u001b[0;31m---------------------------------------------------------------------------\u001b[0m",
      "\u001b[0;31mTypeError\u001b[0m                                 Traceback (most recent call last)",
      "\u001b[0;32m<ipython-input-25-4525d55948ac>\u001b[0m in \u001b[0;36m<module>\u001b[0;34m\u001b[0m\n\u001b[1;32m      1\u001b[0m \u001b[0mtimestr\u001b[0m \u001b[0;34m=\u001b[0m \u001b[0;34m''\u001b[0m\u001b[0;34m\u001b[0m\u001b[0;34m\u001b[0m\u001b[0m\n\u001b[0;32m----> 2\u001b[0;31m \u001b[0;32mfor\u001b[0m \u001b[0mx\u001b[0m \u001b[0;32min\u001b[0m \u001b[0mrange\u001b[0m\u001b[0;34m(\u001b[0m\u001b[0mlen\u001b[0m\u001b[0;34m(\u001b[0m\u001b[0mtime\u001b[0m\u001b[0;34m)\u001b[0m\u001b[0;34m)\u001b[0m\u001b[0;34m:\u001b[0m\u001b[0;34m\u001b[0m\u001b[0;34m\u001b[0m\u001b[0m\n\u001b[0m\u001b[1;32m      3\u001b[0m     \u001b[0;32mif\u001b[0m \u001b[0mx\u001b[0m \u001b[0;34m<\u001b[0m \u001b[0mlen\u001b[0m\u001b[0;34m(\u001b[0m\u001b[0mtime\u001b[0m\u001b[0;34m)\u001b[0m \u001b[0;34m-\u001b[0m \u001b[0;36m1\u001b[0m\u001b[0;34m:\u001b[0m\u001b[0;34m\u001b[0m\u001b[0;34m\u001b[0m\u001b[0m\n\u001b[1;32m      4\u001b[0m         \u001b[0mtimestr\u001b[0m\u001b[0;34m.\u001b[0m\u001b[0mappend\u001b[0m\u001b[0;34m(\u001b[0m\u001b[0mstr\u001b[0m\u001b[0;34m(\u001b[0m\u001b[0mtime\u001b[0m\u001b[0;34m[\u001b[0m\u001b[0mx\u001b[0m\u001b[0;34m]\u001b[0m\u001b[0;34m)\u001b[0m\u001b[0;34m+\u001b[0m\u001b[0;34m':'\u001b[0m\u001b[0;34m)\u001b[0m\u001b[0;34m\u001b[0m\u001b[0;34m\u001b[0m\u001b[0m\n\u001b[1;32m      5\u001b[0m     \u001b[0;32melse\u001b[0m\u001b[0;34m:\u001b[0m\u001b[0;34m\u001b[0m\u001b[0;34m\u001b[0m\u001b[0m\n",
      "\u001b[0;31mTypeError\u001b[0m: object of type 'NoneType' has no len()"
     ]
    }
   ],
   "source": [
    "timestr = ''\n",
    "for x in range(len(time)):\n",
    "    if x < len(time) - 1:\n",
    "        timestr.append(str(time[x])+':')\n",
    "    else:\n",
    "        timestr.append(time[x])\n",
    "print(timestr)"
   ]
  },
  {
   "cell_type": "code",
   "execution_count": null,
   "metadata": {},
   "outputs": [],
   "source": []
  }
 ],
 "metadata": {
  "kernelspec": {
   "display_name": "Python 3",
   "language": "python",
   "name": "python3"
  },
  "language_info": {
   "codemirror_mode": {
    "name": "ipython",
    "version": 3
   },
   "file_extension": ".py",
   "mimetype": "text/x-python",
   "name": "python",
   "nbconvert_exporter": "python",
   "pygments_lexer": "ipython3",
   "version": "3.8.1"
  }
 },
 "nbformat": 4,
 "nbformat_minor": 4
}
