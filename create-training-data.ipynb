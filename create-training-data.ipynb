{
 "cells": [
  {
   "cell_type": "code",
   "execution_count": 1,
   "metadata": {},
   "outputs": [],
   "source": [
    "import os\n",
    "import parse_data\n",
    "from multi_label_pigeon import multi_label_annotate\n",
    "from IPython.display import display, Image"
   ]
  },
  {
   "cell_type": "code",
   "execution_count": 4,
   "metadata": {},
   "outputs": [],
   "source": [
    "#Load Image Files\n",
    "path = r'Geotagged2/'\n",
    "image_filenames = parse_data.get_images(path)"
   ]
  },
  {
   "cell_type": "code",
   "execution_count": 5,
   "metadata": {},
   "outputs": [
    {
     "data": {
      "application/vnd.jupyter.widget-view+json": {
       "model_id": "e9429d8dd58f423394a47e35c9f25db2",
       "version_major": 2,
       "version_minor": 0
      },
      "text/plain": [
       "HTML(value='0 examples annotated, 128 examples left')"
      ]
     },
     "metadata": {},
     "output_type": "display_data"
    },
    {
     "name": "stdout",
     "output_type": "stream",
     "text": [
      "Coverage Density\n"
     ]
    },
    {
     "data": {
      "application/vnd.jupyter.widget-view+json": {
       "model_id": "c4b660d5ee874ea1ac5c902b61923592",
       "version_major": 2,
       "version_minor": 0
      },
      "text/plain": [
       "HBox(children=(Button(description='undefined', style=ButtonStyle()), Button(description='0%-25%', style=Button…"
      ]
     },
     "metadata": {},
     "output_type": "display_data"
    },
    {
     "name": "stdout",
     "output_type": "stream",
     "text": [
      "Bottom Type\n"
     ]
    },
    {
     "data": {
      "application/vnd.jupyter.widget-view+json": {
       "model_id": "bfd5458faee4420c9b0c3c1bc0dd0925",
       "version_major": 2,
       "version_minor": 0
      },
      "text/plain": [
       "HBox(children=(Button(description='undefined', style=ButtonStyle()), Button(description='Loam', style=ButtonSt…"
      ]
     },
     "metadata": {},
     "output_type": "display_data"
    },
    {
     "name": "stdout",
     "output_type": "stream",
     "text": [
      "\n"
     ]
    },
    {
     "data": {
      "application/vnd.jupyter.widget-view+json": {
       "model_id": "4926b573389347b2942fcd2a3ed19b79",
       "version_major": 2,
       "version_minor": 0
      },
      "text/plain": [
       "HBox(children=(Button(description='done', style=ButtonStyle()), Button(description='back', style=ButtonStyle()…"
      ]
     },
     "metadata": {},
     "output_type": "display_data"
    },
    {
     "data": {
      "application/vnd.jupyter.widget-view+json": {
       "model_id": "d930f5dd2bbb4c49a7b0a8df09fcc252",
       "version_major": 2,
       "version_minor": 0
      },
      "text/plain": [
       "Output()"
      ]
     },
     "metadata": {},
     "output_type": "display_data"
    },
    {
     "name": "stdout",
     "output_type": "stream",
     "text": [
      "Annotation done.\n"
     ]
    }
   ],
   "source": [
    "    #Label Coverage Density and Bottom Type\n",
    "    data = multi_label_annotate(image_filenames,\n",
    "  options={'Coverage Density':['undefined','0%-25%', '25%-50%', '50%-75%','75%-100%'],\n",
    "             'Bottom Type':['undefined','Loam', 'Sand', 'Sandy Gravel','Gravel','Gravelly Cobble','Cobble']},\n",
    "  display_fn=lambda filename: display(Image(os.path.join(path,filename))))"
   ]
  },
  {
   "cell_type": "code",
   "execution_count": 8,
   "metadata": {},
   "outputs": [
    {
     "name": "stdout",
     "output_type": "stream",
     "text": [
      "dict_values([{'Coverage Density': ['0%-25%'], 'Bottom Type': ['Gravelly Cobble']}, {'Coverage Density': ['50%-75%'], 'Bottom Type': ['Gravel']}, {'Coverage Density': ['50%-75%'], 'Bottom Type': ['undefined']}, {'Coverage Density': ['0%-25%'], 'Bottom Type': ['undefined']}, {'Coverage Density': ['25%-50%'], 'Bottom Type': ['Sandy Gravel']}, {'Coverage Density': ['0%-25%'], 'Bottom Type': ['undefined']}, {'Coverage Density': ['0%-25%'], 'Bottom Type': ['undefined']}, {'Coverage Density': ['undefined'], 'Bottom Type': ['undefined']}, {'Coverage Density': ['75%-100%'], 'Bottom Type': ['undefined']}, {'Coverage Density': ['75%-100%'], 'Bottom Type': ['undefined']}, {'Coverage Density': ['0%-25%'], 'Bottom Type': ['Gravel']}, {'Coverage Density': ['undefined'], 'Bottom Type': ['undefined']}, {'Coverage Density': ['50%-75%'], 'Bottom Type': ['Gravel']}, {'Coverage Density': ['undefined'], 'Bottom Type': ['undefined']}, {'Coverage Density': ['0%-25%'], 'Bottom Type': ['Sand']}, {'Coverage Density': ['0%-25%'], 'Bottom Type': ['Sandy Gravel']}, {'Coverage Density': ['undefined'], 'Bottom Type': ['undefined']}, {'Coverage Density': ['75%-100%'], 'Bottom Type': ['undefined']}, {'Coverage Density': ['0%-25%'], 'Bottom Type': ['Gravelly Cobble']}, {'Coverage Density': ['75%-100%'], 'Bottom Type': ['undefined']}, {'Coverage Density': ['undefined'], 'Bottom Type': ['undefined']}, {'Coverage Density': ['0%-25%'], 'Bottom Type': ['Sand']}, {'Bottom Type': ['Sandy Gravel'], 'Coverage Density': ['0%-25%']}, {'Coverage Density': ['0%-25%'], 'Bottom Type': ['Gravel']}, {'Coverage Density': ['0%-25%'], 'Bottom Type': ['Gravelly Cobble']}, {'Coverage Density': ['0%-25%'], 'Bottom Type': ['undefined']}, {'Coverage Density': ['0%-25%'], 'Bottom Type': ['Gravel']}, {'Coverage Density': ['undefined'], 'Bottom Type': ['undefined']}, {'Coverage Density': ['75%-100%'], 'Bottom Type': ['undefined']}, {'Coverage Density': ['undefined'], 'Bottom Type': ['undefined']}, {'Coverage Density': ['0%-25%'], 'Bottom Type': ['undefined']}, {'Coverage Density': ['75%-100%'], 'Bottom Type': ['undefined']}, {'Coverage Density': ['undefined'], 'Bottom Type': ['undefined']}, {'Coverage Density': ['75%-100%'], 'Bottom Type': ['Gravel']}, {'Coverage Density': ['0%-25%'], 'Bottom Type': ['Gravel']}, {'Coverage Density': ['undefined'], 'Bottom Type': ['undefined']}, {'Coverage Density': ['0%-25%'], 'Bottom Type': ['Gravel']}, {'Bottom Type': ['Gravel'], 'Coverage Density': ['0%-25%']}, {'Coverage Density': ['undefined'], 'Bottom Type': ['Gravel']}, {'Coverage Density': ['0%-25%'], 'Bottom Type': ['undefined']}, {'Coverage Density': ['25%-50%'], 'Bottom Type': ['Sand']}, {'Coverage Density': ['0%-25%'], 'Bottom Type': ['Gravel']}, {'Coverage Density': ['75%-100%'], 'Bottom Type': ['undefined']}, {'Coverage Density': ['0%-25%'], 'Bottom Type': ['Gravelly Cobble']}, {'Coverage Density': ['undefined'], 'Bottom Type': ['undefined']}, {'Coverage Density': ['75%-100%'], 'Bottom Type': ['undefined']}, {'Coverage Density': ['25%-50%'], 'Bottom Type': ['Gravelly Cobble']}, {'Coverage Density': ['undefined'], 'Bottom Type': ['undefined']}, {'Coverage Density': ['75%-100%'], 'Bottom Type': ['undefined']}, {'Bottom Type': ['Gravel'], 'Coverage Density': ['0%-25%']}, {'Coverage Density': ['0%-25%'], 'Bottom Type': ['Gravel']}, {'Coverage Density': ['undefined'], 'Bottom Type': ['undefined']}, {'Coverage Density': ['0%-25%'], 'Bottom Type': ['Gravel']}, {'Coverage Density': ['0%-25%'], 'Bottom Type': ['Gravel']}, {'Coverage Density': ['50%-75%'], 'Bottom Type': ['Gravelly Cobble']}, {'Coverage Density': ['0%-25%'], 'Bottom Type': ['Sandy Gravel']}, {'Bottom Type': ['Gravel'], 'Coverage Density': ['0%-25%']}, {'Coverage Density': ['undefined'], 'Bottom Type': ['undefined']}, {'Coverage Density': ['0%-25%'], 'Bottom Type': ['undefined']}, {'Coverage Density': ['undefined'], 'Bottom Type': ['Gravel']}, {'Coverage Density': ['75%-100%'], 'Bottom Type': ['undefined']}, {'Coverage Density': ['0%-25%'], 'Bottom Type': ['Gravel']}, {'Coverage Density': ['undefined'], 'Bottom Type': ['undefined']}, {'Coverage Density': ['0%-25%'], 'Bottom Type': ['undefined']}, {'Coverage Density': ['0%-25%'], 'Bottom Type': ['Sandy Gravel']}, {'Coverage Density': ['0%-25%'], 'Bottom Type': ['Gravel']}, {'Coverage Density': ['75%-100%'], 'Bottom Type': ['undefined']}, {'Coverage Density': ['75%-100%'], 'Bottom Type': ['undefined']}, {'Coverage Density': ['0%-25%'], 'Bottom Type': ['undefined']}, {'Coverage Density': ['0%-25%'], 'Bottom Type': ['Sandy Gravel']}, {'Coverage Density': ['0%-25%'], 'Bottom Type': ['undefined']}, {'Coverage Density': ['50%-75%'], 'Bottom Type': ['Gravel']}, {'Coverage Density': ['undefined'], 'Bottom Type': ['undefined']}, {'Coverage Density': ['75%-100%'], 'Bottom Type': ['undefined']}, {'Coverage Density': ['0%-25%'], 'Bottom Type': ['Gravel']}, {'Coverage Density': ['0%-25%'], 'Bottom Type': ['Gravel']}, {'Coverage Density': ['undefined'], 'Bottom Type': ['undefined']}, {'Coverage Density': ['0%-25%'], 'Bottom Type': ['Gravel']}, {'Bottom Type': ['Gravel'], 'Coverage Density': ['0%-25%']}, {'Coverage Density': ['undefined'], 'Bottom Type': ['undefined']}, {'Coverage Density': ['75%-100%'], 'Bottom Type': ['Gravelly Cobble']}, {'Coverage Density': ['75%-100%'], 'Bottom Type': ['undefined']}, {'Coverage Density': ['0%-25%'], 'Bottom Type': ['Sandy Gravel']}, {'Coverage Density': ['75%-100%'], 'Bottom Type': ['undefined']}, {'Coverage Density': ['75%-100%'], 'Bottom Type': ['undefined']}, {'Bottom Type': ['Gravel'], 'Coverage Density': ['25%-50%']}, {'Coverage Density': ['undefined'], 'Bottom Type': ['undefined']}, {'Coverage Density': ['0%-25%'], 'Bottom Type': ['Gravel']}, {'Coverage Density': ['0%-25%'], 'Bottom Type': ['Gravelly Cobble']}, {'Coverage Density': ['0%-25%'], 'Bottom Type': ['Gravel']}, {'Coverage Density': ['undefined'], 'Bottom Type': ['undefined']}, {'Coverage Density': ['undefined'], 'Bottom Type': ['undefined']}, {'Coverage Density': ['undefined'], 'Bottom Type': ['undefined']}, {'Coverage Density': ['undefined'], 'Bottom Type': ['Sandy Gravel']}, {'Coverage Density': ['50%-75%'], 'Bottom Type': ['Gravel']}, {'Coverage Density': ['0%-25%'], 'Bottom Type': ['Gravel']}, {'Coverage Density': ['75%-100%'], 'Bottom Type': ['undefined']}, {'Coverage Density': ['75%-100%'], 'Bottom Type': ['undefined']}, {'Coverage Density': ['75%-100%'], 'Bottom Type': ['undefined']}, {'Coverage Density': ['75%-100%'], 'Bottom Type': ['Gravel']}, {'Coverage Density': ['75%-100%'], 'Bottom Type': ['undefined']}, {'Coverage Density': ['undefined'], 'Bottom Type': ['undefined']}, {'Coverage Density': ['undefined'], 'Bottom Type': ['undefined']}, {'Coverage Density': ['0%-25%'], 'Bottom Type': ['undefined']}, {'Coverage Density': ['undefined'], 'Bottom Type': ['undefined']}, {'Coverage Density': ['75%-100%'], 'Bottom Type': ['undefined']}, {'Coverage Density': ['undefined'], 'Bottom Type': ['undefined']}, {'Coverage Density': ['undefined'], 'Bottom Type': ['Gravel']}, {'Coverage Density': ['0%-25%'], 'Bottom Type': ['Sandy Gravel']}, {'Coverage Density': ['undefined'], 'Bottom Type': ['undefined']}, {'Bottom Type': ['Gravel'], 'Coverage Density': ['75%-100%']}, {'Coverage Density': ['0%-25%'], 'Bottom Type': ['undefined']}, {'Bottom Type': ['Gravel'], 'Coverage Density': ['0%-25%']}, {'Coverage Density': ['undefined'], 'Bottom Type': ['undefined']}, {'Coverage Density': ['75%-100%'], 'Bottom Type': ['undefined']}, {'Coverage Density': ['75%-100%'], 'Bottom Type': ['Gravel']}, {'Coverage Density': ['undefined'], 'Bottom Type': ['undefined']}, {'Coverage Density': ['75%-100%'], 'Bottom Type': ['undefined']}, {'Coverage Density': ['0%-25%'], 'Bottom Type': ['Gravel']}, {'Bottom Type': ['Sandy Gravel'], 'Coverage Density': ['0%-25%']}, {'Coverage Density': ['0%-25%'], 'Bottom Type': ['Sandy Gravel']}, {'Coverage Density': ['undefined'], 'Bottom Type': ['undefined']}, {'Coverage Density': ['0%-25%'], 'Bottom Type': ['undefined']}, {'Coverage Density': ['undefined'], 'Bottom Type': ['undefined']}, {'Coverage Density': ['75%-100%'], 'Bottom Type': ['undefined']}, {'Bottom Type': ['Cobble'], 'Coverage Density': ['0%-25%']}, {'Coverage Density': ['75%-100%'], 'Bottom Type': ['undefined']}])\n"
     ]
    }
   ],
   "source": [
    "#View data dictionary\n",
    "print(data.values())"
   ]
  },
  {
   "cell_type": "code",
   "execution_count": null,
   "metadata": {},
   "outputs": [],
   "source": [
    "#Copy images into classification folders\n",
    "parse_data.split_into_folders(data, path)"
   ]
  },
  {
   "cell_type": "code",
   "execution_count": 9,
   "metadata": {},
   "outputs": [],
   "source": [
    "#Save classification data as csv\n",
    "parse_data.data_to_csv(data, path)"
   ]
  },
  {
   "cell_type": "code",
   "execution_count": null,
   "metadata": {},
   "outputs": [],
   "source": []
  }
 ],
 "metadata": {
  "kernelspec": {
   "display_name": "Python 3",
   "language": "python",
   "name": "python3"
  },
  "language_info": {
   "codemirror_mode": {
    "name": "ipython",
    "version": 3
   },
   "file_extension": ".py",
   "mimetype": "text/x-python",
   "name": "python",
   "nbconvert_exporter": "python",
   "pygments_lexer": "ipython3",
   "version": "3.8.1"
  }
 },
 "nbformat": 4,
 "nbformat_minor": 4
}
